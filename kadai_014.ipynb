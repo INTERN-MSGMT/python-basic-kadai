{
  "nbformat": 4,
  "nbformat_minor": 0,
  "metadata": {
    "colab": {
      "provenance": []
    },
    "kernelspec": {
      "name": "python3",
      "display_name": "Python 3"
    },
    "language_info": {
      "name": "python"
    }
  },
  "cells": [
    {
      "cell_type": "code",
      "execution_count": 3,
      "metadata": {
        "id": "cSpp12cOYP97",
        "colab": {
          "base_uri": "https://localhost:8080/"
        },
        "outputId": "29ffa5bc-884f-4329-f96a-ab6c9385d7ef"
      },
      "outputs": [
        {
          "output_type": "stream",
          "name": "stdout",
          "text": [
            "330.0\n"
          ]
        }
      ],
      "source": [
        "\"\"\"\n",
        "【課題】\n",
        "以下のコードを実行するとスコープに関するエラーが発生する\n",
        "エラーを修正して、正しく計算結果が出力されるようにする\n",
        "\n",
        "【該当コード】\n",
        "price1 = 100\n",
        "price2 = 200\n",
        "\n",
        "def total():\n",
        "    tax = 1.1\n",
        "    return price1 + price2\n",
        "\n",
        "print (total() * tax)\n",
        "\n",
        "【目標】\n",
        "・グローバルスコープとローカルスコープの違いの理解\n",
        "・スコープを意識したプログラムが書けるようになる\n",
        "・グローバルスコープとローカルスコープを意識したプログラムを記述する\n",
        "\n",
        "\"\"\"\n",
        "\n",
        "#変数taxをグローバル変数に変更、それに伴う定義タイミングの前倒し\n",
        "price1 = 100\n",
        "price2 = 200\n",
        "tax = 1.1\n",
        "\n",
        "def total():\n",
        "    return price1 + price2\n",
        "print (total() * tax)\n"
      ]
    }
  ]
}