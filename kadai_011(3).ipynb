{
  "nbformat": 4,
  "nbformat_minor": 0,
  "metadata": {
    "colab": {
      "provenance": []
    },
    "kernelspec": {
      "name": "python3",
      "display_name": "Python 3"
    },
    "language_info": {
      "name": "python"
    }
  },
  "cells": [
    {
      "cell_type": "code",
      "execution_count": 5,
      "metadata": {
        "colab": {
          "base_uri": "https://localhost:8080/"
        },
        "id": "r1lLarLY_9Er",
        "outputId": "500b8011-9ccd-4d78-b510-62c4c4c3c06b"
      },
      "outputs": [
        {
          "output_type": "stream",
          "name": "stdout",
          "text": [
            "水\n",
            "金\n",
            "地\n",
            "火\n",
            "木\n",
            "土\n",
            "天\n",
            "海\n",
            "冥\n",
            "水\n",
            "金\n",
            "地\n",
            "火\n",
            "木\n",
            "土\n",
            "天\n",
            "海\n",
            "冥\n"
          ]
        }
      ],
      "source": [
        "\"\"\"\n",
        "【課題】\n",
        "リストの中身を先頭から全て取り出し、出力結果が以下のようになるプログラムを記述\n",
        "for、whileの両方を使用すること\n",
        "\n",
        "array = [\"水\",\"金\",\"地\",\"火\",\"木\",\"土\",\"天\",\"海\",\"冥\"]\n",
        "\n",
        "【出力結果】\n",
        "水\n",
        "金\n",
        "地\n",
        "火\n",
        "木\n",
        "土\n",
        "天\n",
        "海\n",
        "冥\n",
        "水\n",
        "金\n",
        "地\n",
        "火\n",
        "木\n",
        "土\n",
        "天\n",
        "海\n",
        "冥\n",
        "\n",
        "\n",
        "【目標】\n",
        "・Pythonで繰り返し構文（for / while）のプログラムが書けるようになる\n",
        "・forとwhileの違いを理解する\n",
        "\n",
        "\n",
        "【要点】\n",
        "・配列内の要素を順番に取り出す\n",
        "・2回繰り替えして処理終了\n",
        "\n",
        "\n",
        "\"\"\"\n",
        "\n",
        "#配列の提示\n",
        "array = [\"水\",\"金\",\"地\",\"火\",\"木\",\"土\",\"天\",\"海\",\"冥\"]\n",
        "\n",
        "#for文による配列内の要素の出力\n",
        "for answer_array in array :\n",
        "  print(answer_array)\n",
        "\n",
        "\n",
        "\n",
        "\n",
        "#配列内の要素番号\n",
        "i =  0\n",
        "\n",
        "#配列の表示範囲\n",
        "total_length = len(array)\n",
        "\n",
        "#while文による配列表示\n",
        "while i < total_length :\n",
        "  print(array[i])\n",
        "  i = i + 1\n",
        "\n",
        "\n",
        "\n",
        "\n",
        "\n",
        "\n"
      ]
    }
  ]
}