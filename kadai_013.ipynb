{
  "nbformat": 4,
  "nbformat_minor": 0,
  "metadata": {
    "colab": {
      "provenance": []
    },
    "kernelspec": {
      "name": "python3",
      "display_name": "Python 3"
    },
    "language_info": {
      "name": "python"
    }
  },
  "cells": [
    {
      "cell_type": "code",
      "execution_count": null,
      "metadata": {
        "id": "8plifsK9aZ3Y",
        "colab": {
          "base_uri": "https://localhost:8080/"
        },
        "outputId": "39398145-cbf3-4a01-facb-4e387eb66c0e"
      },
      "outputs": [
        {
          "output_type": "execute_result",
          "data": {
            "text/plain": [
              "1320.0"
            ]
          },
          "metadata": {},
          "execution_count": 21
        }
      ],
      "source": [
        "\"\"\"\n",
        "【課題】\n",
        "商品購入時の消費税を、関数で計算するプログラムのソースコードを作成して提出\n",
        "作成時は以下のヒントを参考にする\n",
        "・消費税を加えた計算結果を返す関数を記述する\n",
        "・「結果を返す関数」なので戻り値を使用する\n",
        "・第1引数に商品の金額、第2引数に消費税（10%）を設定する\n",
        "\n",
        "【注意】\n",
        "計算結果で小数点が含まれる場合はそのまま表示してください\n",
        "切り捨てや四捨五入などの処理は不要です\n",
        "\n",
        "【目標】\n",
        "1\t.「課題の内容」の仕様通りの関数が定義されている\n",
        "2\t.定義した関数を呼び出し、使用されている\n",
        "3\t.戻り値で計算結果を返していること\n",
        "4\t.引数が適切に設定できていること\n",
        "\n",
        "\"\"\"\n",
        "#商品価格に応じた消費税を算出する関数の定義\n",
        "def add_two_arguments(price, consumption_tax):\n",
        "\n",
        "    #引数price(商品価格)と引数consumption_tax(消費税)を乗算し、戻り値として返す\n",
        "    return (price * consumption_tax)\n",
        "\n",
        "#関数を呼び出し、引数として購入金額と消費税(10%)を渡す\n",
        "add_two_arguments(1200, 1.1)"
      ]
    }
  ]
}