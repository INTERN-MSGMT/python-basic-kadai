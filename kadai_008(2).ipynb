{
  "nbformat": 4,
  "nbformat_minor": 0,
  "metadata": {
    "colab": {
      "provenance": []
    },
    "kernelspec": {
      "name": "python3",
      "display_name": "Python 3"
    },
    "language_info": {
      "name": "python"
    }
  },
  "cells": [
    {
      "cell_type": "code",
      "execution_count": 53,
      "metadata": {
        "colab": {
          "base_uri": "https://localhost:8080/"
        },
        "id": "EYxleNOK1q1p",
        "outputId": "dd36b77e-d2d5-48a1-a953-f7eb53fcb743"
      },
      "outputs": [
        {
          "output_type": "stream",
          "name": "stdout",
          "text": [
            "15\n",
            "FizzBuzz\n"
          ]
        }
      ],
      "source": [
        "\"\"\"\n",
        "if文を用いて、以下の条件分岐をするコードを記述\n",
        "値はprint関数で出力\n",
        "\n",
        "・変数varが、3の倍数の場合は「Fizz」を出力\n",
        "・変数varが、5の倍数の場合は「Buzz」を出力\n",
        "・変数varが、3の倍数と5の倍数の両方に該当する場合は「FizzBuzz」を出力\n",
        "・上記のどの場合にも該当しない場合は、変数varの値を出力\n",
        "\n",
        "ただし、変数varは正の整数\n",
        "\n",
        "\"\"\"\n",
        "\n",
        "#randomモジュールのインポート\n",
        "import random\n",
        "\n",
        "# 変数verに1～20までのランダムな整数を代入\n",
        "ver = random.randint(1, 20)\n",
        "print(ver)\n",
        "\n",
        "if ver % 3 == 0 and ver % 5 == 0:\n",
        "    print(\"FizzBuzz\")\n",
        "elif ver % 5 == 0:\n",
        "    print(\"Buzz\")\n",
        "elif ver % 3 == 0:\n",
        "    print(\"Fizz\")\n",
        "else:\n",
        "  print(ver)\n"
      ]
    }
  ]
}