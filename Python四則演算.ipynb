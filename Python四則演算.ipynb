{
  "nbformat": 4,
  "nbformat_minor": 0,
  "metadata": {
    "colab": {
      "provenance": []
    },
    "kernelspec": {
      "name": "python3",
      "display_name": "Python 3"
    },
    "language_info": {
      "name": "python"
    }
  },
  "cells": [
    {
      "cell_type": "code",
      "execution_count": 10,
      "metadata": {
        "colab": {
          "base_uri": "https://localhost:8080/"
        },
        "id": "p4Bc66OrCJpy",
        "outputId": "37191496-cf8e-4708-8604-7a58976e5d79"
      },
      "outputs": [
        {
          "output_type": "stream",
          "name": "stdout",
          "text": [
            "75.0cm²\n"
          ]
        }
      ],
      "source": [
        "\"\"\"\n",
        "変数を使った四則演算\n",
        "\n",
        "上辺：10cm\n",
        "下辺：20cm\n",
        "高さ：5cm\n",
        "\n",
        "公式：台形の面積 =（上辺＋下辺）× 高さ ÷ 2\n",
        "\n",
        "\n",
        "・台形の面積の計算結果を出力するプログラムを記述する\n",
        "・出力結果は「◯◯cm²」となるように単位をつける\n",
        "・台形の面積の計算結果は、変数に代入してプログラム内で使用する\n",
        "\n",
        "\"\"\"\n",
        "top_length = 10\n",
        "bottom_length = 20\n",
        "height = 5\n",
        "\n",
        "answer = (((top_length + bottom_length)* height) / 2 )\n",
        "print(str(answer) + \"cm²\")\n",
        "\n"
      ]
    }
  ]
}