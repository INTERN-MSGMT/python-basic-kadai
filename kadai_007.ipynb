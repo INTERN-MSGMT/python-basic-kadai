{
  "nbformat": 4,
  "nbformat_minor": 0,
  "metadata": {
    "colab": {
      "provenance": []
    },
    "kernelspec": {
      "name": "python3",
      "display_name": "Python 3"
    },
    "language_info": {
      "name": "python"
    }
  },
  "cells": [
    {
      "cell_type": "code",
      "execution_count": null,
      "metadata": {
        "colab": {
          "base_uri": "https://localhost:8080/"
        },
        "id": "AFXe1C-Wk471",
        "outputId": "c78c1ca7-5d5a-497f-d8a6-8910d0ef196b"
      },
      "outputs": [
        {
          "output_type": "stream",
          "name": "stdout",
          "text": [
            "水曜日は晴れです\n",
            "晴れ\n"
          ]
        }
      ],
      "source": [
        "\"\"\"\n",
        "課題「リスト・ディクショナリを使いこなそう」\n",
        "・Pythonでリストとディクショナリのプログラムが書けるようになる\n",
        "・リストとディクショナリの違いを理解する\n",
        "\n",
        "内容\n",
        "1.リスト（array）とディクショナリ（dictionary）をそれぞれ作成\n",
        "2.水曜日の天気予報を取り出して出力\n",
        "\n",
        "\"\"\"\n",
        "\n",
        "#リスト:arrayの作成\n",
        "array = [\"月曜日は晴れです\" , \"火曜日は雨です\" , \"水曜日は晴れです\" , \"木曜日は晴れです\" , \"金曜日は曇りです\" , \"土曜日は曇りのち雨です\" , \"日曜日は雷雨です\" ]\n",
        "\n",
        "#ディクショナリの作成\n",
        "dictionary = {\"mon\" : \"晴れ\" , \"tue\" : \"雨\" , \"wed\" : \"晴れ\" , \"thu\" : \"晴れ\" , \"fri\" : \"曇り\" , \"sat\" : \"曇りのち雨\" , \"sun\" : \"雷雨\" }\n",
        "\n",
        "#水曜日の天気予報の取り出し\n",
        "print(array[2])\n",
        "print(dictionary[\"wed\"])\n"
      ]
    }
  ]
}