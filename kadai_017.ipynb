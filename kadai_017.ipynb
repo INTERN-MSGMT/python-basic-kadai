{
  "nbformat": 4,
  "nbformat_minor": 0,
  "metadata": {
    "colab": {
      "provenance": []
    },
    "kernelspec": {
      "name": "python3",
      "display_name": "Python 3"
    },
    "language_info": {
      "name": "python"
    }
  },
  "cells": [
    {
      "cell_type": "code",
      "execution_count": 7,
      "metadata": {
        "id": "ythE7FtbYt9s",
        "colab": {
          "base_uri": "https://localhost:8080/"
        },
        "outputId": "e90a5669-4f0d-4fa4-fefc-6b912b18c6d2"
      },
      "outputs": [
        {
          "output_type": "stream",
          "name": "stdout",
          "text": [
            "侍太郎さんは大人です。\n",
            "侍花子さんは大人です。\n",
            "侍一郎さんは大人ではありません。\n"
          ]
        }
      ],
      "source": [
        "\"\"\"\n",
        "【内容】\n",
        "・名前(name)と年齢(age)の属性を持つHumanクラスを作成してください。\n",
        "・Humanクラスには、以下の条件で標準出力(print)するcheck_adultメソッドを追加してください。\n",
        "  1.ageが20以上の場合に大人であること\n",
        "  2.そうでない場合に大人でないこと\n",
        "  3.Humanクラスのインスタンスを複数生成してリストに追加し、リストの要素数分だけcheck_adultメソッドを呼び出してください。\n",
        "\n",
        "【目標】\n",
        "\t本教材で学習した「課題の内容」の仕様通りのプログラムが記述されている\n",
        "  「リスト・ディクショナリ」「条件分岐」「繰り返し処理」「関数」「変数のスコープ」「クラス」が用いられている\n",
        "\n",
        "\"\"\"\n",
        "#Humanクラスの作成\n",
        "class Human:\n",
        "\n",
        "  #引数nameとageの値を受け取る\n",
        "  def __init__(self, name, age):\n",
        "    self.name = name\n",
        "    self.age = age\n",
        "\n",
        "  #年齢による条件分岐(check_adultメソッド)\n",
        "  def check_adult(self):\n",
        "    if self.age >= 20:\n",
        "      print(f\"{self.name}さんは大人です。\")\n",
        "    else:\n",
        "      print(f\"{self.name}さんは大人ではありません。\")\n",
        "\n",
        "#Humanクラスのインスタンス生成\n",
        "human_1 = Human(\"侍太郎\", 36)\n",
        "human_2 = Human(\"侍花子\", 24)\n",
        "human_3 = Human(\"侍一郎\", 11)\n",
        "\n",
        "#Humanクラスのインスタンスをinfoリストに追加\n",
        "info = [human_1, human_2, human_3]\n",
        "\n",
        "#infoリストの要素数分だけcheck_adultメソッドを呼び出す\n",
        "for Human in info:\n",
        "  Human.check_adult()"
      ]
    }
  ]
}