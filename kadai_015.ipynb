{
  "nbformat": 4,
  "nbformat_minor": 0,
  "metadata": {
    "colab": {
      "provenance": []
    },
    "kernelspec": {
      "name": "python3",
      "display_name": "Python 3"
    },
    "language_info": {
      "name": "python"
    }
  },
  "cells": [
    {
      "cell_type": "code",
      "execution_count": 7,
      "metadata": {
        "id": "bWePkHRCYeyz",
        "colab": {
          "base_uri": "https://localhost:8080/"
        },
        "outputId": "d6322d0a-fe26-4823-96ab-b20a1704c6b2"
      },
      "outputs": [
        {
          "output_type": "stream",
          "name": "stdout",
          "text": [
            "名前: 侍太郎\n",
            "年齢: 36\n"
          ]
        }
      ],
      "source": [
        "\"\"\"\n",
        "【内容】\n",
        "・名前(name)と年齢(age)の属性を持つHumanクラスを作成\n",
        "・nameとageを標準出力(print)するメソッド(printinfo)を追加\n",
        "・Humanクラスのインスタンスは、変数に代入してプログラム内で使用\n",
        "\n",
        "【目標】\n",
        "・「課題の内容」の仕様通りのクラスが定義されている\n",
        "・Humanクラスのインスタンスが変数に代入されている\n",
        "・定義したクラスに属するメソッド(printinfo)を使用し、名前(name)と年齢(age)が出力されている\n",
        "\n",
        "\n",
        "\"\"\"\n",
        "#Humanクラスの作成\n",
        "class Human:\n",
        "\n",
        "    #名前(name)と年齢(age)の属性定義\n",
        "    def __init__(self , name , age):\n",
        "        self.name = name\n",
        "        self.age = age\n",
        "\n",
        "    #メソッドの定義\n",
        "    def set_name(self, name):\n",
        "        self.name = name\n",
        "    def set_age(self, age):\n",
        "        self.age = age\n",
        "\n",
        "    #printinfoメソッドの定義\n",
        "    def printinfo(self):\n",
        "      print(\"名前:\", self.name)\n",
        "      print(\"年齢:\", self.age)\n",
        "\n",
        "#Humanクラスのインスタンス化\n",
        "human = Human(\"侍太郎\", 36)\n",
        "\n",
        "#printinfoメソッドにアクセスし、名前と年齢の出力\n",
        "human.printinfo()\n",
        "\n",
        "\n"
      ]
    }
  ]
}